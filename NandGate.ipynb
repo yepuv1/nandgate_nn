{
  "nbformat": 4,
  "nbformat_minor": 0,
  "metadata": {
    "colab": {
      "name": "NandGate.ipynb",
      "version": "0.3.2",
      "provenance": [],
      "collapsed_sections": []
    },
    "kernelspec": {
      "name": "python3",
      "display_name": "Python 3"
    },
    "accelerator": "GPU"
  },
  "cells": [
    {
      "cell_type": "markdown",
      "metadata": {
        "id": "view-in-github",
        "colab_type": "text"
      },
      "source": [
        "[View in Colaboratory](https://colab.research.google.com/github/yepuv1/tensorflow/blob/master/NandGate.ipynb)"
      ]
    },
    {
      "metadata": {
        "id": "h35Fgz8M9Bie",
        "colab_type": "code",
        "colab": {}
      },
      "cell_type": "code",
      "source": [
        "import math\n",
        "import numpy as np\n",
        "import h5py\n",
        "import matplotlib.pyplot as plt\n",
        "import tensorflow as tf\n",
        "from tensorflow.python.framework import ops\n",
        "\n",
        "%matplotlib inline\n",
        "np.random.seed(1)"
      ],
      "execution_count": 0,
      "outputs": []
    },
    {
      "metadata": {
        "id": "jhBuGIkuJvXw",
        "colab_type": "code",
        "colab": {}
      },
      "cell_type": "code",
      "source": [
        "def nand(a, b):\n",
        "  return np.logical_not(np.logical_and(a,b))"
      ],
      "execution_count": 0,
      "outputs": []
    },
    {
      "metadata": {
        "id": "rXRLxSISMLN-",
        "colab_type": "code",
        "colab": {}
      },
      "cell_type": "code",
      "source": [
        "def generate_nand_data(examples_size, seed=1):\n",
        "  \n",
        "  assert(examples_size >= 4)\n",
        "  nand_input = np.array([[0,0],[0,1],[1,0],[1,1]], np.bool)\n",
        "  \n",
        "  features_size = 2\n",
        "  examples_size = examples_size - examples_size % 4\n",
        "  partition_size = np.int32(examples_size / 4)\n",
        "\n",
        "  X = np.zeros(shape=(features_size,examples_size), dtype=np.int32)\n",
        "  Y = np.zeros(shape=(1,examples_size), dtype=np.int32)\n",
        "  \n",
        "  for i in range(0,4):\n",
        "    s, e = (partition_size*i, partition_size*(i+1) )\n",
        "    X[:,s:e] = X[:,s:e] + nand_input[i].reshape(1,2).T\n",
        "  \n",
        "  Y = nand(X[0,:], X[1,:]).astype(np.int32).reshape(1,examples_size)\n",
        "  \n",
        "  return X, Y"
      ],
      "execution_count": 0,
      "outputs": []
    },
    {
      "metadata": {
        "id": "-VpxQ1zMgtPt",
        "colab_type": "code",
        "colab": {}
      },
      "cell_type": "code",
      "source": [
        "def one_hot_matrix(labels, C):\n",
        "    \"\"\"\n",
        "    Creates a matrix where the i-th row corresponds to the ith class number and the jth column\n",
        "                     corresponds to the jth training example. So if example j had a label i. Then entry (i,j) \n",
        "                     will be 1. \n",
        "                     \n",
        "    Arguments:\n",
        "    labels -- vector containing the labels \n",
        "    C -- number of classes, the depth of the one hot dimension\n",
        "    \n",
        "    Returns: \n",
        "    one_hot -- one hot matrix\n",
        "    \"\"\"\n",
        "    \n",
        "    C = tf.constant(dtype=tf.int32, name=\"C\", value=C)\n",
        "    one_hot_matrix = tf.one_hot(labels,depth=C, axis=0)\n",
        "    with tf.Session() as sess:\n",
        "      one_hot = sess.run(one_hot_matrix)\n",
        "   \n",
        "    return one_hot"
      ],
      "execution_count": 0,
      "outputs": []
    },
    {
      "metadata": {
        "id": "ynl7o7519uSR",
        "colab_type": "code",
        "colab": {}
      },
      "cell_type": "code",
      "source": [
        "def create_placeholders(n_x, n_y):\n",
        "    \"\"\"\n",
        "    Creates the placeholders for the tensorflow session.\n",
        "    \n",
        "    Arguments:\n",
        "    n_x -- scalar, size of input vector \n",
        "    n_y -- scalar, number of classes (from 0 to 1, so -> 2)\n",
        "    \n",
        "    Returns:\n",
        "    X -- placeholder for the data input, of shape [n_x, None] and dtype \"float\"\n",
        "    Y -- placeholder for the input labels, of shape [n_y, None] and dtype \"float\"\n",
        "    \n",
        "    Tips:\n",
        "    - You will use None because it let's us be flexible on the number of examples you will for the placeholders.\n",
        "      In fact, the number of examples during test/train is different.\n",
        "    \"\"\"\n",
        "\n",
        "    X = tf.placeholder(tf.float32, shape=(n_x, None))\n",
        "    Y = tf.placeholder(tf.float32, shape=(n_y, None))\n",
        "\n",
        "    \n",
        "    return X, Y"
      ],
      "execution_count": 0,
      "outputs": []
    },
    {
      "metadata": {
        "id": "auX2nNLs_F7D",
        "colab_type": "code",
        "colab": {}
      },
      "cell_type": "code",
      "source": [
        "def initialize_parameters(dic_of_layer_sizes):\n",
        "    \"\"\"\n",
        "    Initializes parameters to build a neural network with tensorflow. The shapes are:\n",
        "                        W1 : [25, 2]\n",
        "                        b1 : [25, 1]\n",
        "                        W2 : [12, 25]\n",
        "                        b2 : [12, 1]\n",
        "                        W3 : [6, 12]\n",
        "                        b3 : [6, 1]\n",
        "    \n",
        "    Returns:\n",
        "    parameters -- a dictionary of tensors containing W1, b1, W2, b2, W3, b3\n",
        "    \"\"\"\n",
        "    \n",
        "    tf.set_random_seed(1) \n",
        "        \n",
        "    \n",
        "    parameters ={}\n",
        "    for key, value in dic_of_layer_sizes.items():\n",
        "      print(key)\n",
        "      print(value)\n",
        "      parameters[key]=tf.get_variable(key, value, initializer = tf.contrib.layers.xavier_initializer(seed = 1))\n",
        "    \n",
        "    \n",
        "    return parameters"
      ],
      "execution_count": 0,
      "outputs": []
    },
    {
      "metadata": {
        "id": "6ucbcR9OK_ur",
        "colab_type": "code",
        "colab": {}
      },
      "cell_type": "code",
      "source": [
        "def forward_propagation(X, parameters):\n",
        "    \"\"\"\n",
        "    Implements the forward propagation for the model: LINEAR -> RELU -> LINEAR ->  SOFTMAX\n",
        "    \n",
        "    Arguments:\n",
        "    X -- input dataset placeholder, of shape (input size, number of examples)\n",
        "    parameters -- python dictionary containing your parameters \"W1\", \"b1\", \"W2\", \"b2\", \"W3\", \"b3\"\n",
        "                  the shapes are given in initialize_parameters\n",
        "\n",
        "    Returns:\n",
        "    Z3 -- the output of the last LINEAR unit\n",
        "    \"\"\"\n",
        "    \n",
        "    # Retrieve the parameters from the dictionary \"parameters\" \n",
        "    W1 = parameters['W1']\n",
        "    b1 = parameters['b1']\n",
        "    W2 = parameters['W2']\n",
        "    b2 = parameters['b2']\n",
        "              \n",
        "    Z1 = tf.add(tf.matmul(W1, X), b1)  # LINEAR                                         \n",
        "    A1 = tf.nn.relu(Z1)                # RELU                           \n",
        "    Z2 = tf.add(tf.matmul(W2, A1), b2) # LINEAR                                           \n",
        "\n",
        "    return Z2"
      ],
      "execution_count": 0,
      "outputs": []
    },
    {
      "metadata": {
        "id": "O2HSASNFMu45",
        "colab_type": "code",
        "colab": {}
      },
      "cell_type": "code",
      "source": [
        "def compute_cost(Z3, Y):\n",
        "    \"\"\"\n",
        "    Computes the cost\n",
        "    \n",
        "    Arguments:\n",
        "    Z3 -- output of forward propagation (output of the last LINEAR unit), of shape (6, number of examples)\n",
        "    Y -- \"true\" labels vector placeholder, same shape as Z3\n",
        "    \n",
        "    Returns:\n",
        "    cost - Tensor of the cost function\n",
        "    \"\"\"\n",
        "    \n",
        "    # to fit the tensorflow requirement for tf.nn.softmax_cross_entropy_with_logits(...,...)\n",
        "    logits = tf.transpose(Z3)\n",
        "    labels = tf.transpose(Y)\n",
        "    \n",
        "    cost = tf.reduce_mean(tf.nn.softmax_cross_entropy_with_logits(logits = logits, labels = labels))\n",
        "    \n",
        "    return cost"
      ],
      "execution_count": 0,
      "outputs": []
    },
    {
      "metadata": {
        "id": "ha-wpsb_NpqM",
        "colab_type": "code",
        "colab": {}
      },
      "cell_type": "code",
      "source": [
        "def random_mini_batches(X, Y, mini_batch_size = 64, seed = 0):\n",
        "    \"\"\"\n",
        "    Creates a list of random minibatches from (X, Y)\n",
        "    \n",
        "    Arguments:\n",
        "    X -- input data, of shape (input size, number of examples)\n",
        "    Y -- true \"label\" vector (containing 0 if cat, 1 if non-cat), of shape (1, number of examples)\n",
        "    mini_batch_size - size of the mini-batches, integer\n",
        "    seed -- this is only for the purpose of grading, so that you're \"random minibatches are the same as ours.\n",
        "    \n",
        "    Returns:\n",
        "    mini_batches -- list of synchronous (mini_batch_X, mini_batch_Y)\n",
        "    \"\"\"\n",
        "    \n",
        "    m = X.shape[1]                  # number of training examples\n",
        "    mini_batches = []\n",
        "    np.random.seed(seed)\n",
        "    \n",
        "    # Step 1: Shuffle (X, Y)\n",
        "    permutation = list(np.random.permutation(m))\n",
        "    shuffled_X = X[:, permutation]\n",
        "    shuffled_Y = Y[:, permutation].reshape((Y.shape[0],m))\n",
        "\n",
        "    # Step 2: Partition (shuffled_X, shuffled_Y). Minus the end case.\n",
        "    num_complete_minibatches = math.floor(m/mini_batch_size) # number of mini batches of size mini_batch_size in your partitionning\n",
        "    for k in range(0, num_complete_minibatches):\n",
        "        mini_batch_X = shuffled_X[:, k * mini_batch_size : k * mini_batch_size + mini_batch_size]\n",
        "        mini_batch_Y = shuffled_Y[:, k * mini_batch_size : k * mini_batch_size + mini_batch_size]\n",
        "        mini_batch = (mini_batch_X, mini_batch_Y)\n",
        "        mini_batches.append(mini_batch)\n",
        "    \n",
        "    # Handling the end case (last mini-batch < mini_batch_size)\n",
        "    if m % mini_batch_size != 0:\n",
        "        mini_batch_X = shuffled_X[:, num_complete_minibatches * mini_batch_size : m]\n",
        "        mini_batch_Y = shuffled_Y[:, num_complete_minibatches * mini_batch_size : m]\n",
        "        mini_batch = (mini_batch_X, mini_batch_Y)\n",
        "        mini_batches.append(mini_batch)\n",
        "    \n",
        "    return mini_batches"
      ],
      "execution_count": 0,
      "outputs": []
    },
    {
      "metadata": {
        "id": "E8kXzSCaNG9M",
        "colab_type": "code",
        "colab": {}
      },
      "cell_type": "code",
      "source": [
        "def model(X_train, Y_train, X_test, Y_test,dic_of_layer_sizes,learning_rate = 0.0001,\n",
        "          num_epochs = 1024, minibatch_size = 32, print_cost = True):\n",
        "    \"\"\"\n",
        "    Implements a three-layer tensorflow neural network: LINEAR->RELU->LINEAR->RELU->LINEAR->SOFTMAX.\n",
        "    \n",
        "    Arguments:\n",
        "    X_train -- training set, of shape (input size = 12288, number of training examples = 1080)\n",
        "    Y_train -- test set, of shape (output size = 6, number of training examples = 1080)\n",
        "    X_test -- training set, of shape (input size = 12288, number of training examples = 120)\n",
        "    Y_test -- test set, of shape (output size = 6, number of test examples = 120)\n",
        "    dic_of_layer_sizes - dictionary of W<n> b<n> sizes as [x,y]\n",
        "    learning_rate -- learning rate of the optimization\n",
        "    num_epochs -- number of epochs of the optimization loop\n",
        "    minibatch_size -- size of a minibatch\n",
        "    print_cost -- True to print the cost every 100 epochs\n",
        "    \n",
        "    Returns:\n",
        "    parameters -- parameters learnt by the model. They can then be used to predict.\n",
        "    \"\"\"\n",
        "    \n",
        "    ops.reset_default_graph()                         # to be able to rerun the model without overwriting tf variables\n",
        "    tf.set_random_seed(1)                             # to keep consistent results\n",
        "    seed = 3                                          # to keep consistent results\n",
        "    (n_x, m) = X_train.shape                          # (n_x: input size, m : number of examples in the train set)\n",
        "    n_y = Y_train.shape[0]                            # n_y : output size\n",
        "    costs = []                                        # To keep track of the cost\n",
        "    \n",
        "    # Create Placeholders of shape (n_x, n_y)\n",
        "    X, Y = create_placeholders(n_x, n_y)\n",
        "\n",
        "    # Initialize parameters\n",
        "    parameters = initialize_parameters(dic_of_layer_sizes)\n",
        "    \n",
        "    # Forward propagation: Build the forward propagation in the tensorflow graph\n",
        "    Z3 = forward_propagation(X=X, parameters=parameters)\n",
        "    \n",
        "    # Cost function: Add cost function to tensorflow graph\n",
        "    cost = compute_cost(Y=Y,Z3=Z3)\n",
        "    \n",
        "    # Backpropagation: Define the tensorflow optimizer. Use an AdamOptimizer.\n",
        "    optimizer = tf.train.AdamOptimizer(learning_rate = learning_rate).minimize(cost)\n",
        "    \n",
        "    \n",
        "    # Initialize all the variables\n",
        "    init = tf.global_variables_initializer()\n",
        "\n",
        "    # Start the session to compute the tensorflow graph\n",
        "    with tf.Session() as sess:\n",
        "        \n",
        "        # Run the initialization\n",
        "        sess.run(init)\n",
        "        \n",
        "        # Do the training loop\n",
        "        for epoch in range(num_epochs):\n",
        "\n",
        "            epoch_cost = 0.                       # Defines a cost related to an epoch\n",
        "            num_minibatches = int(m / minibatch_size) # number of minibatches of size minibatch_size in the train set\n",
        "            seed = seed + 1\n",
        "            minibatches = random_mini_batches(X_train, Y_train, minibatch_size, seed)\n",
        "\n",
        "            for minibatch in minibatches:\n",
        "\n",
        "                # Select a minibatch\n",
        "                (minibatch_X, minibatch_Y) = minibatch\n",
        "                \n",
        "                # IMPORTANT: The line that runs the graph on a minibatch.\n",
        "                # Run the session to execute the \"optimizer\" and the \"cost\", the feedict should contain a minibatch for (X,Y).\n",
        "                \n",
        "                _ , minibatch_cost = sess.run([optimizer, cost], feed_dict={X: minibatch_X, Y: minibatch_Y})\n",
        "                \n",
        "                epoch_cost += minibatch_cost / num_minibatches\n",
        "\n",
        "            # Print the cost every epoch\n",
        "            if print_cost == True and epoch % 100 == 0:\n",
        "                print (\"Cost after epoch %i: %f\" % (epoch, epoch_cost))\n",
        "            if print_cost == True and epoch % 5 == 0:\n",
        "                costs.append(epoch_cost)\n",
        "                \n",
        "        # plot the cost\n",
        "        plt.plot(np.squeeze(costs))\n",
        "        plt.ylabel('cost')\n",
        "        plt.xlabel('iterations (per tens)')\n",
        "        plt.title(\"Learning rate =\" + str(learning_rate))\n",
        "        plt.show()\n",
        "\n",
        "        # lets save the parameters in a variable\n",
        "        parameters = sess.run(parameters)\n",
        "        print (\"Parameters have been trained!\")\n",
        "\n",
        "        # Calculate the correct predictions\n",
        "        correct_prediction = tf.equal(tf.argmax(Z3), tf.argmax(Y))\n",
        "\n",
        "        # Calculate accuracy on the test set\n",
        "        accuracy = tf.reduce_mean(tf.cast(correct_prediction, \"float\"))\n",
        "\n",
        "        print (\"Train Accuracy:\", accuracy.eval({X: X_train, Y: Y_train}))\n",
        "        print (\"Test Accuracy:\", accuracy.eval({X: X_test, Y: Y_test}))\n",
        "        \n",
        "        return parameters"
      ],
      "execution_count": 0,
      "outputs": []
    },
    {
      "metadata": {
        "id": "DAiy879JNU7Y",
        "colab_type": "code",
        "colab": {
          "base_uri": "https://localhost:8080/",
          "height": 1456
        },
        "outputId": "e8a49923-835d-4ce5-b804-ddadbb55e083"
      },
      "cell_type": "code",
      "source": [
        "training_size = 4*10000\n",
        "test_size = 4*2\n",
        "X_train, Y_train = generate_nand_data(training_size)\n",
        "Y_train = one_hot_matrix(Y_train.reshape(training_size), 2)\n",
        "X_test, Y_test = generate_nand_data(test_size)\n",
        "Y_test = one_hot_matrix(Y_test.reshape(test_size), 2)\n",
        "\n",
        "\n",
        "print (\"number of training examples = \" + str(X_train.shape[1]))\n",
        "print (\"number of test examples = \" + str(X_test.shape[1]))\n",
        "print (\"X_train shape: \" + str(X_train.shape))\n",
        "print (\"Y_train shape: \" + str(Y_train.shape))\n",
        "print (\"X_test shape: \" + str(X_test.shape))\n",
        "print (\"Y_test shape: \" + str(Y_test.shape))\n",
        "\n",
        "dic_of_layer_sizes ={\n",
        "    \"W1\":[8,2],\n",
        "    \"b1\":[8,1],\n",
        "    \"W2\":[2,8],\n",
        "    \"b2\":[2,1]\n",
        "}\n",
        "\n",
        "parameters = model(\n",
        "    X_train, \n",
        "    Y_train, \n",
        "    X_test, \n",
        "    Y_test, \n",
        "    dic_of_layer_sizes, \n",
        "    num_epochs=5000,\n",
        "    minibatch_size=1024\n",
        ")"
      ],
      "execution_count": 32,
      "outputs": [
        {
          "output_type": "stream",
          "text": [
            "number of training examples = 40000\n",
            "number of test examples = 8\n",
            "X_train shape: (2, 40000)\n",
            "Y_train shape: (2, 40000)\n",
            "X_test shape: (2, 8)\n",
            "Y_test shape: (2, 8)\n",
            "W1\n",
            "[8, 2]\n",
            "b1\n",
            "[8, 1]\n",
            "W2\n",
            "[2, 8]\n",
            "b2\n",
            "[2, 1]\n",
            "Cost after epoch 0: 0.836004\n",
            "Cost after epoch 100: 0.350047\n",
            "Cost after epoch 200: 0.112368\n",
            "Cost after epoch 300: 0.024663\n",
            "Cost after epoch 400: 0.004635\n",
            "Cost after epoch 500: 0.000818\n",
            "Cost after epoch 600: 0.000139\n",
            "Cost after epoch 700: 0.000023\n",
            "Cost after epoch 800: 0.000004\n",
            "Cost after epoch 900: 0.000001\n",
            "Cost after epoch 1000: 0.000000\n",
            "Cost after epoch 1100: 0.000000\n",
            "Cost after epoch 1200: 0.000000\n",
            "Cost after epoch 1300: 0.000000\n",
            "Cost after epoch 1400: 0.000000\n",
            "Cost after epoch 1500: 0.000000\n",
            "Cost after epoch 1600: 0.000000\n",
            "Cost after epoch 1700: 0.000000\n",
            "Cost after epoch 1800: 0.000000\n",
            "Cost after epoch 1900: 0.000000\n",
            "Cost after epoch 2000: 0.000000\n",
            "Cost after epoch 2100: 0.000000\n",
            "Cost after epoch 2200: 0.000000\n",
            "Cost after epoch 2300: 0.000000\n",
            "Cost after epoch 2400: 0.000000\n",
            "Cost after epoch 2500: 0.000000\n",
            "Cost after epoch 2600: 0.000000\n",
            "Cost after epoch 2700: 0.000000\n",
            "Cost after epoch 2800: 0.000000\n",
            "Cost after epoch 2900: 0.000000\n",
            "Cost after epoch 3000: 0.000000\n",
            "Cost after epoch 3100: 0.000000\n",
            "Cost after epoch 3200: 0.000000\n",
            "Cost after epoch 3300: 0.000000\n",
            "Cost after epoch 3400: 0.000000\n",
            "Cost after epoch 3500: 0.000000\n",
            "Cost after epoch 3600: 0.000000\n",
            "Cost after epoch 3700: 0.000000\n",
            "Cost after epoch 3800: 0.000000\n",
            "Cost after epoch 3900: 0.000000\n",
            "Cost after epoch 4000: 0.000000\n",
            "Cost after epoch 4100: 0.000000\n",
            "Cost after epoch 4200: 0.000000\n",
            "Cost after epoch 4300: 0.000000\n",
            "Cost after epoch 4400: 0.000000\n",
            "Cost after epoch 4500: 0.000000\n",
            "Cost after epoch 4600: 0.000000\n",
            "Cost after epoch 4700: 0.000000\n",
            "Cost after epoch 4800: 0.000000\n",
            "Cost after epoch 4900: 0.000000\n"
          ],
          "name": "stdout"
        },
        {
          "output_type": "display_data",
          "data": {
            "image/png": "[encoded data removed]",
            "text/plain": [
              "<matplotlib.figure.Figure at 0x7f1a2c426a58>"
            ]
          },
          "metadata": {
            "tags": []
          }
        },
        {
          "output_type": "stream",
          "text": [
            "Parameters have been trained!\n",
            "Train Accuracy: 1.0\n",
            "Test Accuracy: 1.0\n"
          ],
          "name": "stdout"
        }
      ]
    },
    {
      "metadata": {
        "id": "vPfDqZ9BoJ7L",
        "colab_type": "code",
        "colab": {}
      },
      "cell_type": "code",
      "source": [
        "X, Y = generate_nand_data(2*4)"
      ],
      "execution_count": 0,
      "outputs": []
    },
    {
      "metadata": {
        "id": "bcFHp5ctoX4U",
        "colab_type": "code",
        "colab": {
          "base_uri": "https://localhost:8080/",
          "height": 69
        },
        "outputId": "034320ee-d090-4492-c9c2-3270f92593b7"
      },
      "cell_type": "code",
      "source": [
        "with tf.Session() as session:\n",
        " X = np.float32(X)\n",
        " z3 = forward_propagation(np.float32(X), parameters)\n",
        " p = tf.argmax(z3)\n",
        " print(X)\n",
        " print(session.run(p))"
      ],
      "execution_count": 27,
      "outputs": [
        {
          "output_type": "stream",
          "text": [
            "[[0. 0. 0. 0. 1. 1. 1. 1.]\n",
            " [0. 0. 1. 1. 0. 0. 1. 1.]]\n",
            "[1 1 1 1 1 1 0 0]\n"
          ],
          "name": "stdout"
        }
      ]
    }
  ]
}